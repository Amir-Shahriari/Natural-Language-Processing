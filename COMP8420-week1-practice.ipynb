{
 "cells": [
  {
   "cell_type": "markdown",
   "metadata": {
    "id": "gg5PvL45XT_e"
   },
   "source": [
    "# COMP8420 Advanced Natural Language Processing\n",
    "## Week 1 - Setting Up the Environment, Data Pre-processing & Classification"
   ]
  },
  {
   "cell_type": "markdown",
   "metadata": {
    "id": "uZaJVK7azikk"
   },
   "source": [
    "## Today's Topics\n",
    "- Jupyter Notebook\n",
    "- Environment & Dependencies\n",
    "- Text Data Pre-processing\n",
    "- Classification & Logistic regression"
   ]
  },
  {
   "cell_type": "markdown",
   "metadata": {
    "id": "vzdd4Nd4dUEF"
   },
   "source": [
    "### 1. Jupyter Notebook"
   ]
  },
  {
   "cell_type": "markdown",
   "metadata": {
    "id": "zNv4nZW9m9_C"
   },
   "source": [
    "[Jupyter Notebook](https://jupyter.org/) is an interactive development environment that supports **real-time code execution and text presentation**.  \n",
    "\n",
    "Due to its convenience, ease of use for running demos, and efficiency in obtaining results, it is widely used in the machine learning community.  \n",
    "\n",
    "For our workshops, we will use **Google Colab**, a cloud-based implementation of Jupyter Notebook. Alternatively, Jupyter Notebook can be installed locally by following the instructions at [Jupyter's official site](https://jupyter.org/install)."
   ]
  },
  {
   "cell_type": "markdown",
   "metadata": {
    "id": "3FyZXApzt0w9"
   },
   "source": [
    "#### Cells"
   ]
  },
  {
   "cell_type": "markdown",
   "metadata": {
    "id": "GP5b-NTbt_Cj"
   },
   "source": [
    "Notebooks consist of two types of cells: *text cells* and *code cells*.  "
   ]
  },
  {
   "cell_type": "markdown",
   "metadata": {
    "id": "YEJwfixvytSY"
   },
   "source": [
    "**Text cells**: This cell is an example of a text cell. It supports markup languages such as Markdown, HTML, and LaTeX, allowing you to format plain text, add [hyperlinks](https://www.markdownguide.org/getting-started/), display equations (e.g., $y = wx + b$), create tables, insert images, and more.  \n",
    "\n",
    "You can edit a text cell by *double-clicking* on it. Press `<Shift> + <Enter>`  to render the formatted content."
   ]
  },
  {
   "cell_type": "markdown",
   "metadata": {
    "id": "PhaB0R25y6xa"
   },
   "source": [
    "**Code cells**: Jupyter Notebook supports multiple programming languages, referred to as **kernels** in Jupyter terminology. In this course, we will primarily use **Python 3**, as it is widely adopted in the machine learning and data science communities.  \n",
    "\n",
    "The following cell is an example of a code cell. You can execute it in several ways:  \n",
    "- Click the *Run* ▶ button (visible when you hover over the cell).  \n",
    "- Press `<Shift> + <Enter>` to run the cell and move to the next one.  \n",
    "- Press `<Ctrl> + <Enter>` to run the cell without advancing.  \n",
    "\n",
    "To execute all cells at once, select *Run all* from the *Runtime* menu in the top right of the UI."
   ]
  },
  {
   "cell_type": "code",
   "execution_count": 8,
   "metadata": {
    "id": "DHKo1_5hdYcR"
   },
   "outputs": [
    {
     "name": "stdout",
     "output_type": "stream",
     "text": [
      "***************************************************************\n",
      "*  Welcome to COMP8420 Advanced Natural Language Processing!  *\n",
      "***************************************************************\n"
     ]
    }
   ],
   "source": [
    "\"\"\"Print messages\"\"\"\n",
    "\n",
    "message = \"Welcome to COMP8420 Advanced Natural Language Processing!\"\n",
    "border = \"*\" * (len(message) + 6)\n",
    "\n",
    "# Print the formatted message\n",
    "print(border)\n",
    "print(f\"*  {message}  *\")\n",
    "print(border)"
   ]
  },
  {
   "cell_type": "code",
   "execution_count": 9,
   "metadata": {
    "scrolled": true
   },
   "outputs": [
    {
     "name": "stdout",
     "output_type": "stream",
     "text": [
      "Requirement already satisfied: matplotlib in /home/amir/miniconda3/lib/python3.12/site-packages (3.10.1)\n",
      "Requirement already satisfied: contourpy>=1.0.1 in /home/amir/miniconda3/lib/python3.12/site-packages (from matplotlib) (1.3.1)\n",
      "Requirement already satisfied: cycler>=0.10 in /home/amir/miniconda3/lib/python3.12/site-packages (from matplotlib) (0.12.1)\n",
      "Requirement already satisfied: fonttools>=4.22.0 in /home/amir/miniconda3/lib/python3.12/site-packages (from matplotlib) (4.56.0)\n",
      "Requirement already satisfied: kiwisolver>=1.3.1 in /home/amir/miniconda3/lib/python3.12/site-packages (from matplotlib) (1.4.8)\n",
      "Requirement already satisfied: numpy>=1.23 in /home/amir/miniconda3/lib/python3.12/site-packages (from matplotlib) (2.2.3)\n",
      "Requirement already satisfied: packaging>=20.0 in /home/amir/miniconda3/lib/python3.12/site-packages (from matplotlib) (24.2)\n",
      "Requirement already satisfied: pillow>=8 in /home/amir/miniconda3/lib/python3.12/site-packages (from matplotlib) (11.1.0)\n",
      "Requirement already satisfied: pyparsing>=2.3.1 in /home/amir/miniconda3/lib/python3.12/site-packages (from matplotlib) (3.2.1)\n",
      "Requirement already satisfied: python-dateutil>=2.7 in /home/amir/miniconda3/lib/python3.12/site-packages (from matplotlib) (2.9.0.post0)\n",
      "Requirement already satisfied: six>=1.5 in /home/amir/miniconda3/lib/python3.12/site-packages (from python-dateutil>=2.7->matplotlib) (1.16.0)\n"
     ]
    }
   ],
   "source": [
    "!pip install matplotlib"
   ]
  },
  {
   "cell_type": "code",
   "execution_count": 10,
   "metadata": {
    "id": "vTx1evcxMzBt"
   },
   "outputs": [
    {
     "data": {
      "image/png": "[encoded data removed]",
      "text/plain": [
       "<Figure size 500x300 with 1 Axes>"
      ]
     },
     "metadata": {},
     "output_type": "display_data"
    }
   ],
   "source": [
    "\"\"\"Interactively visualize data points\"\"\"\n",
    "\n",
    "import matplotlib.pyplot as plt\n",
    "import numpy as np\n",
    "\n",
    "#### Parameters you can easily change ####\n",
    "center = 4\n",
    "width = 2\n",
    "view_range = 8\n",
    "##########################################\n",
    "\n",
    "# Create the points to plot\n",
    "x = np.arange(center - view_range, center + view_range, 0.01)\n",
    "y = width * (x - center)**2\n",
    "\n",
    "# Create the plot\n",
    "plt.figure(figsize=(5, 3))\n",
    "plt.plot(x, y, label=f\"y = {width}(x - {center})$^2$\", color='blue', linestyle='-')\n",
    "plt.ylabel(\"y\")\n",
    "plt.xlabel(\"x\")\n",
    "plt.title(\"Parabola\")\n",
    "\n",
    "#### What else configs can be set for the plot? ####\n",
    "## Q1. How to add grid lines?\n",
    "\n",
    "\n",
    "## Q2. How to set a legend?\n",
    "\n",
    "####################################################\n",
    "\n",
    "plt.show()"
   ]
  },
  {
   "cell_type": "markdown",
   "metadata": {
    "id": "HRM3XZCXahYd"
   },
   "source": [
    "### 2. Environment & Dependencies"
   ]
  },
  {
   "cell_type": "markdown",
   "metadata": {
    "id": "JcNJc3oxfojj"
   },
   "source": [
    "A machine learning development environment is your complete workspace setup, primarily consisting of:\n",
    "- Python distribution (e.g., Python 2/3, and specific versions like Python 3.10)\n",
    "- Essential dependency packages (e.g., NumPy, Pandas, scikit-learn)  \n",
    "\n",
    "An isolated environment enables you to manage dependencies needed for running program, without writing every function from scratch.\n",
    "\n",
    "Google Colab has an embedded environment, which installs most widely used packages by default.\n",
    "\n",
    "By running the cell below, you can verify whether some basic packages are installed and what their installed versions are:"
   ]
  },
  {
   "cell_type": "code",
   "execution_count": 2,
   "metadata": {
    "id": "IPORnf8LqxQy"
   },
   "outputs": [
    {
     "name": "stdout",
     "output_type": "stream",
     "text": [
      "Python version: 3.12.9 | packaged by Anaconda, Inc. | (main, Feb  6 2025, 18:56:27) [GCC 11.2.0]\n",
      "PyTorch version: 2.6.0+cu124\n"
     ]
    },
    {
     "name": "stderr",
     "output_type": "stream",
     "text": [
      "The cache for model files in Transformers v4.22.0 has been updated. Migrating your old cache. This is a one-time only operation. You can interrupt this and resume the migration later on by calling `transformers.utils.move_cache()`.\n"
     ]
    },
    {
     "data": {
      "application/vnd.jupyter.widget-view+json": {
       "model_id": "12d2f057923f4ec380a15b9d6dcfda67",
       "version_major": 2,
       "version_minor": 0
      },
      "text/plain": [
       "0it [00:00, ?it/s]"
      ]
     },
     "metadata": {},
     "output_type": "display_data"
    },
    {
     "name": "stdout",
     "output_type": "stream",
     "text": [
      "Transformers version: 4.39.3\n"
     ]
    }
   ],
   "source": [
    "\"\"\"Verify installation and version of pakcages\"\"\"\n",
    "\n",
    "import sys\n",
    "print(f\"Python version: {sys.version}\")\n",
    "\n",
    "try:\n",
    "    import torch\n",
    "    print(f\"PyTorch version: {torch.__version__}\")\n",
    "except ImportError:\n",
    "    print(\"PyTorch is not installed!\")\n",
    "\n",
    "try:\n",
    "    import transformers\n",
    "    print(f\"Transformers version: {transformers.__version__}\")\n",
    "except ImportError:\n",
    "    print(\"Transformers is not installed!\")"
   ]
  },
  {
   "cell_type": "markdown",
   "metadata": {
    "id": "VRxZRb9YsTrd"
   },
   "source": [
    "If any additional packages need to be installed, use `!pip install <package_name>` to run a shell command within the notebook."
   ]
  },
  {
   "cell_type": "code",
   "execution_count": 4,
   "metadata": {
    "scrolled": true
   },
   "outputs": [
    {
     "name": "stdout",
     "output_type": "stream",
     "text": [
      "4.39.3\n"
     ]
    }
   ],
   "source": [
    "import transformers\n",
    "print(transformers.__version__)\n"
   ]
  },
  {
   "cell_type": "code",
   "execution_count": 5,
   "metadata": {
    "id": "xvhOgC1xqMjK"
   },
   "outputs": [
    {
     "name": "stdout",
     "output_type": "stream",
     "text": [
      "Requirement already satisfied: evaluate in /home/amir/miniconda3/lib/python3.12/site-packages (0.4.3)\n",
      "Requirement already satisfied: datasets>=2.0.0 in /home/amir/miniconda3/lib/python3.12/site-packages (from evaluate) (3.3.2)\n",
      "Requirement already satisfied: numpy>=1.17 in /home/amir/miniconda3/lib/python3.12/site-packages (from evaluate) (2.2.3)\n",
      "Requirement already satisfied: dill in /home/amir/miniconda3/lib/python3.12/site-packages (from evaluate) (0.3.8)\n",
      "Requirement already satisfied: pandas in /home/amir/miniconda3/lib/python3.12/site-packages (from evaluate) (2.2.3)\n",
      "Requirement already satisfied: requests>=2.19.0 in /home/amir/miniconda3/lib/python3.12/site-packages (from evaluate) (2.32.3)\n",
      "Requirement already satisfied: tqdm>=4.62.1 in /home/amir/miniconda3/lib/python3.12/site-packages (from evaluate) (4.67.1)\n",
      "Requirement already satisfied: xxhash in /home/amir/miniconda3/lib/python3.12/site-packages (from evaluate) (3.5.0)\n",
      "Requirement already satisfied: multiprocess in /home/amir/miniconda3/lib/python3.12/site-packages (from evaluate) (0.70.16)\n",
      "Requirement already satisfied: fsspec>=2021.05.0 in /home/amir/miniconda3/lib/python3.12/site-packages (from fsspec[http]>=2021.05.0->evaluate) (2024.12.0)\n",
      "Requirement already satisfied: huggingface-hub>=0.7.0 in /home/amir/miniconda3/lib/python3.12/site-packages (from evaluate) (0.24.6)\n",
      "Requirement already satisfied: packaging in /home/amir/miniconda3/lib/python3.12/site-packages (from evaluate) (24.2)\n",
      "Requirement already satisfied: filelock in /home/amir/miniconda3/lib/python3.12/site-packages (from datasets>=2.0.0->evaluate) (3.13.1)\n",
      "Requirement already satisfied: pyarrow>=15.0.0 in /home/amir/miniconda3/lib/python3.12/site-packages (from datasets>=2.0.0->evaluate) (19.0.1)\n",
      "Requirement already satisfied: aiohttp in /home/amir/miniconda3/lib/python3.12/site-packages (from datasets>=2.0.0->evaluate) (3.11.13)\n",
      "Requirement already satisfied: pyyaml>=5.1 in /home/amir/miniconda3/lib/python3.12/site-packages (from datasets>=2.0.0->evaluate) (6.0.2)\n",
      "Requirement already satisfied: typing-extensions>=3.7.4.3 in /home/amir/miniconda3/lib/python3.12/site-packages (from huggingface-hub>=0.7.0->evaluate) (4.12.2)\n",
      "Requirement already satisfied: charset-normalizer<4,>=2 in /home/amir/miniconda3/lib/python3.12/site-packages (from requests>=2.19.0->evaluate) (3.3.2)\n",
      "Requirement already satisfied: idna<4,>=2.5 in /home/amir/miniconda3/lib/python3.12/site-packages (from requests>=2.19.0->evaluate) (3.7)\n",
      "Requirement already satisfied: urllib3<3,>=1.21.1 in /home/amir/miniconda3/lib/python3.12/site-packages (from requests>=2.19.0->evaluate) (2.3.0)\n",
      "Requirement already satisfied: certifi>=2017.4.17 in /home/amir/miniconda3/lib/python3.12/site-packages (from requests>=2.19.0->evaluate) (2025.1.31)\n",
      "Requirement already satisfied: python-dateutil>=2.8.2 in /home/amir/miniconda3/lib/python3.12/site-packages (from pandas->evaluate) (2.9.0.post0)\n",
      "Requirement already satisfied: pytz>=2020.1 in /home/amir/miniconda3/lib/python3.12/site-packages (from pandas->evaluate) (2025.1)\n",
      "Requirement already satisfied: tzdata>=2022.7 in /home/amir/miniconda3/lib/python3.12/site-packages (from pandas->evaluate) (2025.1)\n",
      "Requirement already satisfied: aiohappyeyeballs>=2.3.0 in /home/amir/miniconda3/lib/python3.12/site-packages (from aiohttp->datasets>=2.0.0->evaluate) (2.4.6)\n",
      "Requirement already satisfied: aiosignal>=1.1.2 in /home/amir/miniconda3/lib/python3.12/site-packages (from aiohttp->datasets>=2.0.0->evaluate) (1.3.2)\n",
      "Requirement already satisfied: attrs>=17.3.0 in /home/amir/miniconda3/lib/python3.12/site-packages (from aiohttp->datasets>=2.0.0->evaluate) (24.3.0)\n",
      "Requirement already satisfied: frozenlist>=1.1.1 in /home/amir/miniconda3/lib/python3.12/site-packages (from aiohttp->datasets>=2.0.0->evaluate) (1.5.0)\n",
      "Requirement already satisfied: multidict<7.0,>=4.5 in /home/amir/miniconda3/lib/python3.12/site-packages (from aiohttp->datasets>=2.0.0->evaluate) (6.1.0)\n",
      "Requirement already satisfied: propcache>=0.2.0 in /home/amir/miniconda3/lib/python3.12/site-packages (from aiohttp->datasets>=2.0.0->evaluate) (0.3.0)\n",
      "Requirement already satisfied: yarl<2.0,>=1.17.0 in /home/amir/miniconda3/lib/python3.12/site-packages (from aiohttp->datasets>=2.0.0->evaluate) (1.18.3)\n",
      "Requirement already satisfied: six>=1.5 in /home/amir/miniconda3/lib/python3.12/site-packages (from python-dateutil>=2.8.2->pandas->evaluate) (1.16.0)\n"
     ]
    }
   ],
   "source": [
    "!pip install evaluate"
   ]
  },
  {
   "cell_type": "markdown",
   "metadata": {
    "id": "3mJkqgDnton7"
   },
   "source": [
    "As a free cloud service, Google Colab **will not** preserve the state of your custom-installed packages. Therefore, it is also a good practice to install development environments on your own computer."
   ]
  },
  {
   "cell_type": "markdown",
   "metadata": {
    "id": "zl6nCpLblskR"
   },
   "source": [
    "#### Anaconda (Python + ML Package Manager)"
   ]
  },
  {
   "cell_type": "markdown",
   "metadata": {
    "id": "UN2y-Sn6u625"
   },
   "source": [
    "[Anaconda Distribution](https://www.anaconda.com/) provides an environment manager called *conda*, and is still one of the most widely adopted tool for machine learning practitioners to manage their environments and dependencies.\n",
    "\n",
    "It can be downloaded from its [official website](https://www.anaconda.com/download/success). Two versions are available:\n",
    "- Anaconda: Full distribution with pre-installed data science packages\n",
    "- Miniconda: Lightweight version with only conda and its dependencies"
   ]
  },
  {
   "cell_type": "markdown",
   "metadata": {
    "id": "N28lyGv_0iH-"
   },
   "source": [
    "You can then create your own working environment and install packages after installing Anaconda or Miniconda.\n",
    "\n",
    "Here are example command line codes to set up the env in your local computer:"
   ]
  },
  {
   "cell_type": "markdown",
   "metadata": {
    "id": "ck2dvCKC1xdj"
   },
   "source": [
    "\n",
    "- Create and activate new environment\n",
    "```bash\n",
    "conda create -n nlp-env python=3.10\n",
    "conda activate nlp-env  \n",
    "```\n",
    "\n",
    "- Install core data science packages  \n",
    "```bash\n",
    "conda install numpy pandas matplotlib scikit-learn jupyter notebook\n",
    "```\n",
    "\n",
    "- Install NLP packages, PyTorch and Hugging Face packages   \n",
    "```bash\n",
    "pip install nltk spacy gensim  \n",
    "pip install torch torchvision torchaudio\n",
    "pip install transformers datasets evaluate sentencepiece\n",
    "```"
   ]
  },
  {
   "cell_type": "markdown",
   "metadata": {
    "id": "TW8YKvcA1Kw0"
   },
   "source": [
    "**Let's have a practice, please:**\n",
    "\n",
    ">- Step 1: Download and install Anaconda distribution\n",
    ">- Step 2: Create an environment (either from anaconda interface or terminal)\n",
    ">- Step 3: Install a package, e.g., Numpy"
   ]
  },
  {
   "cell_type": "markdown",
   "metadata": {
    "id": "GqzASjprpI7d"
   },
   "source": [
    "> **💡 (Optional) Think About It:** To ensure project reproducibility:\n",
    "> - How can you export your environment configuration? (Hint: Try searching `conda env export` or `pip freeze`)\n",
    "> - What's the difference between requirements.txt and environment.yml?\n",
    "> - How do you recreate an environment from these files?"
   ]
  },
  {
   "cell_type": "markdown",
   "metadata": {
    "id": "Q81HTOeXgXM5"
   },
   "source": [
    "### 3. Text Data Pre-processing\n"
   ]
  },
  {
   "cell_type": "markdown",
   "metadata": {
    "id": "s6xf6pm9KgBw"
   },
   "source": [
    "Text data, often collected from the web, is typically **unstructured** and contains elements like HTML symbols that make it challenging to analyze directly. Therefore, data preprocessing is a crucial first step in any text processing task.\n",
    "\n",
    "In this workshop, we'll explore preprocessing techniques using HTML-formatted data collected from the subject's iLearn webpage.\n",
    "\n",
    "This hands-on example will demonstrate common cleaning and transformation steps needed to prepare web text for analysis."
   ]
  },
  {
   "cell_type": "code",
   "execution_count": 6,
   "metadata": {
    "id": "ziRtyFc6KsYk"
   },
   "outputs": [],
   "source": [
    "corpus = '''\n",
    "<div class=\"summary\"><div class=\"no-overflow\"><p dir=\"ltr\" style=\"text-align: left;\"></p><strong>\n",
    "Welcome to COMP8420 Advanced Natural Language Processing!<br></strong><br>\n",
    "The last few years have seen very rapid improvements in the ability of computers to understand\n",
    "spoken and written text, and to create and translate. A lot of this improvement has come from one innovation:\n",
    "Transformers. In this unit we will deep-dive on to the Transformer architecture, and cover applications of\n",
    "Transformers (and other techniques) in industry and beyond.<br><br><br></div></div>\n",
    "'''"
   ]
  },
  {
   "cell_type": "markdown",
   "metadata": {
    "id": "jOmkM2qRKxF1"
   },
   "source": [
    "Those HTML-formatted symbols could be irrelevant to the text processing task, so we can use a [Regular Expression (Regex)](https://www.geeksforgeeks.org/python-substituting-patterns-in-text-using-regex/) to remove them and obtain a cleaner version."
   ]
  },
  {
   "cell_type": "code",
   "execution_count": 7,
   "metadata": {
    "id": "7eAH-h2EKuWB"
   },
   "outputs": [
    {
     "name": "stdout",
     "output_type": "stream",
     "text": [
      "\n",
      " Welcome to COMP8420 Advanced Natural Language Processing! The last few years have seen very rapid improvements in the ability of computers to understand spoken and written text, and to create and translate. A lot of this improvement has come from one innovation: Transformers. In this unit we will deep-dive on to the Transformer architecture, and cover applications of Transformers (and other techniques) in industry and beyond.\n"
     ]
    }
   ],
   "source": [
    "import re\n",
    "\n",
    "## Syntax of RegEx(Regular expression): re.sub(pattern, replacement, string)\n",
    "pattern=\"<[^>]+>\"\n",
    "document = re.sub(pattern, \"\", corpus)\n",
    "document = \" \".join(document.split())\n",
    "\n",
    "print('\\n',document)"
   ]
  },
  {
   "cell_type": "markdown",
   "metadata": {
    "id": "BQ5iyThcLTZA"
   },
   "source": [
    "There is also a famous tool named [Natural Language Toolkit (NLTK)](https://www.nltk.org/) that is frequently used to conduct text data pre-processing, including sentence segmentation, tokenization, removing stop words, lemmatization and so on."
   ]
  },
  {
   "cell_type": "code",
   "execution_count": 8,
   "metadata": {},
   "outputs": [
    {
     "name": "stdout",
     "output_type": "stream",
     "text": [
      "Requirement already satisfied: nltk in /home/amir/miniconda3/lib/python3.12/site-packages (3.9.1)\n",
      "Requirement already satisfied: click in /home/amir/miniconda3/lib/python3.12/site-packages (from nltk) (8.1.8)\n",
      "Requirement already satisfied: joblib in /home/amir/miniconda3/lib/python3.12/site-packages (from nltk) (1.4.2)\n",
      "Requirement already satisfied: regex>=2021.8.3 in /home/amir/miniconda3/lib/python3.12/site-packages (from nltk) (2024.11.6)\n",
      "Requirement already satisfied: tqdm in /home/amir/miniconda3/lib/python3.12/site-packages (from nltk) (4.67.1)\n",
      "Note: you may need to restart the kernel to use updated packages.\n"
     ]
    }
   ],
   "source": [
    "pip install nltk"
   ]
  },
  {
   "cell_type": "code",
   "execution_count": 9,
   "metadata": {
    "id": "g86QhgvpLSm5"
   },
   "outputs": [
    {
     "name": "stderr",
     "output_type": "stream",
     "text": [
      "[nltk_data] Downloading package punkt_tab to /home/amir/nltk_data...\n",
      "[nltk_data]   Package punkt_tab is already up-to-date!\n"
     ]
    },
    {
     "data": {
      "text/plain": [
       "True"
      ]
     },
     "execution_count": 9,
     "metadata": {},
     "output_type": "execute_result"
    }
   ],
   "source": [
    "import nltk\n",
    "nltk.download(['punkt_tab'])"
   ]
  },
  {
   "cell_type": "code",
   "execution_count": 10,
   "metadata": {
    "id": "WXmP0stjNGax"
   },
   "outputs": [
    {
     "name": "stdout",
     "output_type": "stream",
     "text": [
      "Welcome to COMP8420 Advanced Natural Language Processing!\n",
      "The last few years have seen very rapid improvements in the ability of computers to understand spoken and written text, and to create and translate.\n",
      "A lot of this improvement has come from one innovation: Transformers.\n",
      "In this unit we will deep-dive on to the Transformer architecture, and cover applications of Transformers (and other techniques) in industry and beyond.\n"
     ]
    }
   ],
   "source": [
    "\"\"\"Sentence segmentation\"\"\"\n",
    "from nltk.tokenize import sent_tokenize\n",
    "\n",
    "sentences = sent_tokenize(document)\n",
    "for sentence in sentences:\n",
    "    print(sentence)"
   ]
  },
  {
   "cell_type": "markdown",
   "metadata": {
    "id": "dqRUIhCtP7mX"
   },
   "source": [
    "We can also use regular expression to split the paragraph into sentences:"
   ]
  },
  {
   "cell_type": "code",
   "execution_count": 11,
   "metadata": {
    "id": "lZHKK3XQOXaa"
   },
   "outputs": [
    {
     "name": "stdout",
     "output_type": "stream",
     "text": [
      "Welcome to COMP8420 Advanced Natural Language Processing\n",
      " The last few years have seen very rapid improvements in the ability of computers to understand spoken and written text, and to create and translate\n",
      " A lot of this improvement has come from one innovation: Transformers\n",
      " In this unit we will deep-dive on to the Transformer architecture, and cover applications of Transformers (and other techniques) in industry and beyond\n",
      "\n"
     ]
    }
   ],
   "source": [
    "simple_sentences = re.split(r'[.!?]', document)\n",
    "\n",
    "for sentence in simple_sentences:\n",
    "    print(sentence)"
   ]
  },
  {
   "cell_type": "markdown",
   "metadata": {
    "id": "tpXtMLJLQyrz"
   },
   "source": [
    "What could be the problem to use hardcoded regular expression rules to split the sentences?"
   ]
  },
  {
   "cell_type": "code",
   "execution_count": 12,
   "metadata": {
    "id": "koBjBPaBLr5k"
   },
   "outputs": [
    {
     "name": "stdout",
     "output_type": "stream",
     "text": [
      "[' ']\n",
      "[]\n"
     ]
    }
   ],
   "source": [
    "from nltk.tokenize import sent_tokenize\n",
    "\n",
    "text = \"Dr. Smith went to Washington D.C. Yesterday was his birthday.\"\n",
    "\n",
    "## Question: can you think of any other examples?\n",
    "text = \" \"\n",
    "\n",
    "regex_sentences = re.split(r'[.!?]', text)\n",
    "nltk_sentences = sent_tokenize(text)\n",
    "\n",
    "print(regex_sentences)\n",
    "print(nltk_sentences)"
   ]
  },
  {
   "cell_type": "markdown",
   "metadata": {
    "id": "upSKkTOeSEUN"
   },
   "source": [
    "Text data are generally processed at the token level, so we should continue to chunk the sentences into a fine-grained level, using techniques called tokenization."
   ]
  },
  {
   "cell_type": "code",
   "execution_count": 13,
   "metadata": {
    "id": "rBXwmJMqSFk2"
   },
   "outputs": [
    {
     "name": "stdout",
     "output_type": "stream",
     "text": [
      "['In', 'this', 'unit', 'we', 'will', 'deep-dive', 'on', 'to', 'the', 'Transformer', 'architecture,', 'and', 'cover', 'applications', 'of', 'Transformers', '(and', 'other', 'techniques)', 'in', 'industry', 'and', 'beyond.']\n",
      "['In', 'this', 'unit', 'we', 'will', 'deep-dive', 'on', 'to', 'the', 'Transformer', 'architecture', ',', 'and', 'cover', 'applications', 'of', 'Transformers', '(', 'and', 'other', 'techniques', ')', 'in', 'industry', 'and', 'beyond', '.']\n"
     ]
    }
   ],
   "source": [
    "\"\"\"Tokenization\"\"\"\n",
    "\n",
    "from nltk.tokenize import word_tokenize\n",
    "\n",
    "tokenized_sentence = word_tokenize(sentences[3])\n",
    "\n",
    "print(sentences[3].split(\" \"))\n",
    "print(tokenized_sentence)"
   ]
  },
  {
   "cell_type": "markdown",
   "metadata": {
    "id": "OravL29RYo3g"
   },
   "source": [
    "Similary, we can have more examples to check the differences between direct split, and the NLTK tokenizer."
   ]
  },
  {
   "cell_type": "code",
   "execution_count": 14,
   "metadata": {
    "id": "-BPNxXlSYh_1"
   },
   "outputs": [
    {
     "name": "stdout",
     "output_type": "stream",
     "text": [
      "['I', \"don't\", 'want', 'to', 'go.', \"It's\", 'too', 'late.']\n",
      "['I', 'do', \"n't\", 'want', 'to', 'go', '.', 'It', \"'s\", 'too', 'late', '.']\n"
     ]
    }
   ],
   "source": [
    "text = \"I don't want to go. It's too late.\"\n",
    "\n",
    "# split\n",
    "print(text.split())\n",
    "\n",
    "# NLTK word_tokenize\n",
    "print(word_tokenize(text))"
   ]
  },
  {
   "cell_type": "code",
   "execution_count": 15,
   "metadata": {
    "id": "WuKFRHK9ZAvU"
   },
   "outputs": [
    {
     "name": "stdout",
     "output_type": "stream",
     "text": [
      "[('In', 'IN'), ('this', 'DT'), ('unit', 'NN'), ('we', 'PRP'), ('will', 'MD'), ('deep-dive', 'VB'), ('on', 'IN'), ('to', 'TO'), ('the', 'DT'), ('Transformer', 'NNP'), ('architecture', 'NN'), (',', ','), ('and', 'CC'), ('cover', 'NN'), ('applications', 'NNS'), ('of', 'IN'), ('Transformers', 'NNP'), ('(', '('), ('and', 'CC'), ('other', 'JJ'), ('techniques', 'NNS'), (')', ')'), ('in', 'IN'), ('industry', 'NN'), ('and', 'CC'), ('beyond', 'IN'), ('.', '.')]\n"
     ]
    },
    {
     "name": "stderr",
     "output_type": "stream",
     "text": [
      "[nltk_data] Downloading package averaged_perceptron_tagger_eng to\n",
      "[nltk_data]     /home/amir/nltk_data...\n",
      "[nltk_data]   Package averaged_perceptron_tagger_eng is already up-to-\n",
      "[nltk_data]       date!\n"
     ]
    }
   ],
   "source": [
    "nltk.download('averaged_perceptron_tagger_eng')\n",
    "\n",
    "part_of_speech_tag = nltk.pos_tag(tokenized_sentence)\n",
    "print(part_of_speech_tag)"
   ]
  },
  {
   "cell_type": "markdown",
   "metadata": {
    "id": "8ENqbIBzZ3U_"
   },
   "source": [
    "You can find more details of part-of-speech tags in [Penn TreeBank project](https://www.ling.upenn.edu/courses/Fall_2003/ling001/penn_treebank_pos.html) and also [NLTK tutorial](https://www.nltk.org/book/ch05.html).\n",
    "\n",
    "Additionally, classical NLP techniques studied to remove 'not-so-important' tokens, such as stop words ('in', 'the' etc.), from the sentence to keep focus on key features."
   ]
  },
  {
   "cell_type": "code",
   "execution_count": 16,
   "metadata": {
    "id": "Vtuait9vazZK"
   },
   "outputs": [
    {
     "name": "stderr",
     "output_type": "stream",
     "text": [
      "[nltk_data] Downloading package stopwords to /home/amir/nltk_data...\n",
      "[nltk_data]   Package stopwords is already up-to-date!\n",
      "[nltk_data] Downloading package wordnet to /home/amir/nltk_data...\n",
      "[nltk_data]   Package wordnet is already up-to-date!\n"
     ]
    },
    {
     "name": "stdout",
     "output_type": "stream",
     "text": [
      "Original: ['In', 'this', 'unit', 'we', 'will', 'deep-dive', 'on', 'to', 'the', 'Transformer', 'architecture', ',', 'and', 'cover', 'applications', 'of', 'Transformers', '(', 'and', 'other', 'techniques', ')', 'in', 'industry', 'and', 'beyond', '.']\n",
      "After removing stop words: ['unit', 'deep-dive', 'Transformer', 'architecture', ',', 'cover', 'applications', 'Transformers', '(', 'techniques', ')', 'industry', 'beyond', '.']\n",
      "After lemmatization: ['unit', 'deep-dive', 'Transformer', 'architecture', ',', 'cover', 'application', 'Transformers', '(', 'technique', ')', 'industry', 'beyond', '.']\n"
     ]
    }
   ],
   "source": [
    "\"\"\"Removing stop-words and lemmatization\"\"\"\n",
    "\n",
    "from nltk.corpus import stopwords\n",
    "from nltk.stem import WordNetLemmatizer\n",
    "\n",
    "nltk.download('stopwords')\n",
    "nltk.download('wordnet')\n",
    "\n",
    "stop_words = set(stopwords.words('english'))\n",
    "\n",
    "filtered_tokens = [word for word in tokenized_sentence if word.lower() not in stop_words]\n",
    "\n",
    "lemmatizer = WordNetLemmatizer()\n",
    "\n",
    "lemmatized_tokens = [lemmatizer.lemmatize(word) for word in filtered_tokens]\n",
    "\n",
    "print(\"Original:\", tokenized_sentence)\n",
    "print(\"After removing stop words:\", filtered_tokens)\n",
    "print(\"After lemmatization:\", lemmatized_tokens)"
   ]
  },
  {
   "cell_type": "markdown",
   "metadata": {
    "id": "epeNRHXvecyY"
   },
   "source": [
    "#### **Tokens are still in text format; how can we transform them into numerical representations, which can be used for downstream tasks?**"
   ]
  },
  {
   "cell_type": "code",
   "execution_count": 17,
   "metadata": {
    "id": "lpPQN50djQdi"
   },
   "outputs": [
    {
     "name": "stdout",
     "output_type": "stream",
     "text": [
      "Original sentences: ['Welcome to COMP8420 Advanced Natural Language Processing!', 'The last few years have seen very rapid improvements in the ability of computers to understand spoken and written text, and to create and translate.', 'A lot of this improvement has come from one innovation: Transformers.', 'In this unit we will deep-dive on to the Transformer architecture, and cover applications of Transformers (and other techniques) in industry and beyond.'] \n",
      "\n",
      "Feature names (vocabulary):\n",
      " ['ability' 'advanced' 'and' 'applications' 'architecture' 'beyond' 'come'\n",
      " 'comp8420' 'computers' 'cover' 'create' 'deep' 'dive' 'few' 'from' 'has'\n",
      " 'have' 'improvement' 'improvements' 'in' 'industry' 'innovation'\n",
      " 'language' 'last' 'lot' 'natural' 'of' 'on' 'one' 'other' 'processing'\n",
      " 'rapid' 'seen' 'spoken' 'techniques' 'text' 'the' 'this' 'to'\n",
      " 'transformer' 'transformers' 'translate' 'understand' 'unit' 'very' 'we'\n",
      " 'welcome' 'will' 'written' 'years'] \n",
      "\n",
      "Bag-of-word representation: [[0 1 0 0 0 0 0 1 0 0 0 0 0 0 0 0 0 0 0 0 0 0 1 0 0 1 0 0 0 0 1 0 0 0 0 0\n",
      "  0 0 1 0 0 0 0 0 0 0 1 0 0 0]\n",
      " [1 0 3 0 0 0 0 0 1 0 1 0 0 1 0 0 1 0 1 1 0 0 0 1 0 0 1 0 0 0 0 1 1 1 0 1\n",
      "  2 0 2 0 0 1 1 0 1 0 0 0 1 1]\n",
      " [0 0 0 0 0 0 1 0 0 0 0 0 0 0 1 1 0 1 0 0 0 1 0 0 1 0 1 0 1 0 0 0 0 0 0 0\n",
      "  0 1 0 0 1 0 0 0 0 0 0 0 0 0]\n",
      " [0 0 3 1 1 1 0 0 0 1 0 1 1 0 0 0 0 0 0 2 1 0 0 0 0 0 1 1 0 1 0 0 0 0 1 0\n",
      "  1 1 1 1 1 0 0 1 0 1 0 1 0 0]]\n"
     ]
    }
   ],
   "source": [
    "\"\"\"Transform text data into Bag-of-words representation\"\"\"\n",
    "\n",
    "from sklearn.feature_extraction.text import CountVectorizer\n",
    "\n",
    "print(\"Original sentences:\", sentences, \"\\n\")\n",
    "\n",
    "vectorizer = CountVectorizer()\n",
    "X = vectorizer.fit_transform(sentences)\n",
    "\n",
    "print(\"Feature names (vocabulary):\\n\", vectorizer.get_feature_names_out(), \"\\n\")\n",
    "print(\"Bag-of-word representation:\", X.toarray())"
   ]
  },
  {
   "cell_type": "code",
   "execution_count": 18,
   "metadata": {
    "id": "KYgyA6hzluLg"
   },
   "outputs": [
    {
     "name": "stdout",
     "output_type": "stream",
     "text": [
      "Original sentences: ['Welcome to COMP8420 Advanced Natural Language Processing!', 'The last few years have seen very rapid improvements in the ability of computers to understand spoken and written text, and to create and translate.', 'A lot of this improvement has come from one innovation: Transformers.', 'In this unit we will deep-dive on to the Transformer architecture, and cover applications of Transformers (and other techniques) in industry and beyond.'] \n",
      "\n",
      "Feature names (vocabulary):\n",
      " ['ability' 'advanced' 'and' 'applications' 'architecture' 'beyond' 'come'\n",
      " 'comp8420' 'computers' 'cover' 'create' 'deep' 'dive' 'few' 'from' 'has'\n",
      " 'have' 'improvement' 'improvements' 'in' 'industry' 'innovation'\n",
      " 'language' 'last' 'lot' 'natural' 'of' 'on' 'one' 'other' 'processing'\n",
      " 'rapid' 'seen' 'spoken' 'techniques' 'text' 'the' 'this' 'to'\n",
      " 'transformer' 'transformers' 'translate' 'understand' 'unit' 'very' 'we'\n",
      " 'welcome' 'will' 'written' 'years'] \n",
      "\n",
      "TF-IDF representation: [[0.         0.39505606 0.         0.         0.         0.\n",
      "  0.         0.39505606 0.         0.         0.         0.\n",
      "  0.         0.         0.         0.         0.         0.\n",
      "  0.         0.         0.         0.         0.39505606 0.\n",
      "  0.         0.39505606 0.         0.         0.         0.\n",
      "  0.39505606 0.         0.         0.         0.         0.\n",
      "  0.         0.         0.25215917 0.         0.         0.\n",
      "  0.         0.         0.         0.         0.39505606 0.\n",
      "  0.         0.        ]\n",
      " [0.1933858  0.         0.45740276 0.         0.         0.\n",
      "  0.         0.         0.1933858  0.         0.1933858  0.\n",
      "  0.         0.1933858  0.         0.         0.1933858  0.\n",
      "  0.1933858  0.15246759 0.         0.         0.         0.1933858\n",
      "  0.         0.         0.12343565 0.         0.         0.\n",
      "  0.         0.1933858  0.1933858  0.1933858  0.         0.1933858\n",
      "  0.30493517 0.         0.2468713  0.         0.         0.1933858\n",
      "  0.1933858  0.         0.1933858  0.         0.         0.\n",
      "  0.1933858  0.1933858 ]\n",
      " [0.         0.         0.         0.         0.         0.\n",
      "  0.33999849 0.         0.         0.         0.         0.\n",
      "  0.         0.         0.33999849 0.33999849 0.         0.33999849\n",
      "  0.         0.         0.         0.33999849 0.         0.\n",
      "  0.33999849 0.         0.21701663 0.         0.33999849 0.\n",
      "  0.         0.         0.         0.         0.         0.\n",
      "  0.         0.26805872 0.         0.         0.26805872 0.\n",
      "  0.         0.         0.         0.         0.         0.\n",
      "  0.         0.        ]\n",
      " [0.         0.         0.47533108 0.20096574 0.20096574 0.20096574\n",
      "  0.         0.         0.         0.20096574 0.         0.20096574\n",
      "  0.20096574 0.         0.         0.         0.         0.\n",
      "  0.         0.31688739 0.20096574 0.         0.         0.\n",
      "  0.         0.         0.12827383 0.20096574 0.         0.20096574\n",
      "  0.         0.         0.         0.         0.20096574 0.\n",
      "  0.15844369 0.15844369 0.12827383 0.20096574 0.15844369 0.\n",
      "  0.         0.20096574 0.         0.20096574 0.         0.20096574\n",
      "  0.         0.        ]]\n"
     ]
    }
   ],
   "source": [
    "\"\"\"Transform text data into TF-IDF representation\"\"\"\n",
    "from sklearn.feature_extraction.text import TfidfVectorizer\n",
    "\n",
    "print(\"Original sentences:\", sentences, \"\\n\")\n",
    "\n",
    "vectorizer = TfidfVectorizer()\n",
    "X = vectorizer.fit_transform(sentences)\n",
    "\n",
    "print(\"Feature names (vocabulary):\\n\", vectorizer.get_feature_names_out(), \"\\n\")\n",
    "print(\"TF-IDF representation:\", X.toarray())"
   ]
  },
  {
   "cell_type": "markdown",
   "metadata": {
    "id": "G06U1C-KpOSo"
   },
   "source": [
    "### 4. Classification Task & Logistic regression"
   ]
  },
  {
   "cell_type": "markdown",
   "metadata": {
    "id": "FRnEZ57s0akX"
   },
   "source": [
    "A classification task aims to map specific data points to predefined labels (e.g., positive/negative, spam/not spam).\n",
    "\n",
    "In this notebook, we'll explore this concept using a classic machine learning problem: predicting passenger survival on the Titanic."
   ]
  },
  {
   "cell_type": "code",
   "execution_count": 19,
   "metadata": {
    "id": "AtwqnAyuRpG_"
   },
   "outputs": [],
   "source": [
    "# Uncomment and run following code, if it is not installed.\n",
    "# !pip install datasets"
   ]
  },
  {
   "cell_type": "code",
   "execution_count": 20,
   "metadata": {
    "id": "eYSzAJRdj4RU"
   },
   "outputs": [
    {
     "data": {
      "application/vnd.jupyter.widget-view+json": {
       "model_id": "088122ae135d464683ab03c5a7667adf",
       "version_major": 2,
       "version_minor": 0
      },
      "text/plain": [
       "train.csv:   0%|          | 0.00/60.3k [00:00<?, ?B/s]"
      ]
     },
     "metadata": {},
     "output_type": "display_data"
    },
    {
     "data": {
      "application/vnd.jupyter.widget-view+json": {
       "model_id": "ea859ffff50141e4957c261feae992ee",
       "version_major": 2,
       "version_minor": 0
      },
      "text/plain": [
       "test.csv:   0%|          | 0.00/28.2k [00:00<?, ?B/s]"
      ]
     },
     "metadata": {},
     "output_type": "display_data"
    },
    {
     "data": {
      "application/vnd.jupyter.widget-view+json": {
       "model_id": "a68c1cf2d6da48b49010172d95079fdd",
       "version_major": 2,
       "version_minor": 0
      },
      "text/plain": [
       "Generating train split: 0 examples [00:00, ? examples/s]"
      ]
     },
     "metadata": {},
     "output_type": "display_data"
    },
    {
     "data": {
      "application/vnd.jupyter.widget-view+json": {
       "model_id": "11a5faed879945728c23be97947f4eda",
       "version_major": 2,
       "version_minor": 0
      },
      "text/plain": [
       "Generating test split: 0 examples [00:00, ? examples/s]"
      ]
     },
     "metadata": {},
     "output_type": "display_data"
    },
    {
     "name": "stdout",
     "output_type": "stream",
     "text": [
      "Index(['PassengerId', 'Survived', 'Pclass', 'Name', 'Sex', 'Age', 'SibSp',\n",
      "       'Parch', 'Ticket', 'Fare', 'Cabin', 'Embarked'],\n",
      "      dtype='object')\n"
     ]
    },
    {
     "data": {
      "text/html": [
       "<div>\n",
       "<style scoped>\n",
       "    .dataframe tbody tr th:only-of-type {\n",
       "        vertical-align: middle;\n",
       "    }\n",
       "\n",
       "    .dataframe tbody tr th {\n",
       "        vertical-align: top;\n",
       "    }\n",
       "\n",
       "    .dataframe thead th {\n",
       "        text-align: right;\n",
       "    }\n",
       "</style>\n",
       "<table border=\"1\" class=\"dataframe\">\n",
       "  <thead>\n",
       "    <tr style=\"text-align: right;\">\n",
       "      <th></th>\n",
       "      <th>PassengerId</th>\n",
       "      <th>Survived</th>\n",
       "      <th>Pclass</th>\n",
       "      <th>Name</th>\n",
       "      <th>Sex</th>\n",
       "      <th>Age</th>\n",
       "      <th>SibSp</th>\n",
       "      <th>Parch</th>\n",
       "      <th>Ticket</th>\n",
       "      <th>Fare</th>\n",
       "      <th>Cabin</th>\n",
       "      <th>Embarked</th>\n",
       "    </tr>\n",
       "  </thead>\n",
       "  <tbody>\n",
       "    <tr>\n",
       "      <th>0</th>\n",
       "      <td>1</td>\n",
       "      <td>0</td>\n",
       "      <td>3</td>\n",
       "      <td>Braund, Mr. Owen Harris</td>\n",
       "      <td>male</td>\n",
       "      <td>22.0</td>\n",
       "      <td>1</td>\n",
       "      <td>0</td>\n",
       "      <td>A/5 21171</td>\n",
       "      <td>7.2500</td>\n",
       "      <td>None</td>\n",
       "      <td>S</td>\n",
       "    </tr>\n",
       "    <tr>\n",
       "      <th>1</th>\n",
       "      <td>2</td>\n",
       "      <td>1</td>\n",
       "      <td>1</td>\n",
       "      <td>Cumings, Mrs. John Bradley (Florence Briggs Th...</td>\n",
       "      <td>female</td>\n",
       "      <td>38.0</td>\n",
       "      <td>1</td>\n",
       "      <td>0</td>\n",
       "      <td>PC 17599</td>\n",
       "      <td>71.2833</td>\n",
       "      <td>C85</td>\n",
       "      <td>C</td>\n",
       "    </tr>\n",
       "    <tr>\n",
       "      <th>2</th>\n",
       "      <td>3</td>\n",
       "      <td>1</td>\n",
       "      <td>3</td>\n",
       "      <td>Heikkinen, Miss. Laina</td>\n",
       "      <td>female</td>\n",
       "      <td>26.0</td>\n",
       "      <td>0</td>\n",
       "      <td>0</td>\n",
       "      <td>STON/O2. 3101282</td>\n",
       "      <td>7.9250</td>\n",
       "      <td>None</td>\n",
       "      <td>S</td>\n",
       "    </tr>\n",
       "    <tr>\n",
       "      <th>3</th>\n",
       "      <td>4</td>\n",
       "      <td>1</td>\n",
       "      <td>1</td>\n",
       "      <td>Futrelle, Mrs. Jacques Heath (Lily May Peel)</td>\n",
       "      <td>female</td>\n",
       "      <td>35.0</td>\n",
       "      <td>1</td>\n",
       "      <td>0</td>\n",
       "      <td>113803</td>\n",
       "      <td>53.1000</td>\n",
       "      <td>C123</td>\n",
       "      <td>S</td>\n",
       "    </tr>\n",
       "    <tr>\n",
       "      <th>4</th>\n",
       "      <td>5</td>\n",
       "      <td>0</td>\n",
       "      <td>3</td>\n",
       "      <td>Allen, Mr. William Henry</td>\n",
       "      <td>male</td>\n",
       "      <td>35.0</td>\n",
       "      <td>0</td>\n",
       "      <td>0</td>\n",
       "      <td>373450</td>\n",
       "      <td>8.0500</td>\n",
       "      <td>None</td>\n",
       "      <td>S</td>\n",
       "    </tr>\n",
       "  </tbody>\n",
       "</table>\n",
       "</div>"
      ],
      "text/plain": [
       "   PassengerId  Survived  Pclass  \\\n",
       "0            1         0       3   \n",
       "1            2         1       1   \n",
       "2            3         1       3   \n",
       "3            4         1       1   \n",
       "4            5         0       3   \n",
       "\n",
       "                                                Name     Sex   Age  SibSp  \\\n",
       "0                            Braund, Mr. Owen Harris    male  22.0      1   \n",
       "1  Cumings, Mrs. John Bradley (Florence Briggs Th...  female  38.0      1   \n",
       "2                             Heikkinen, Miss. Laina  female  26.0      0   \n",
       "3       Futrelle, Mrs. Jacques Heath (Lily May Peel)  female  35.0      1   \n",
       "4                           Allen, Mr. William Henry    male  35.0      0   \n",
       "\n",
       "   Parch            Ticket     Fare Cabin Embarked  \n",
       "0      0         A/5 21171   7.2500  None        S  \n",
       "1      0          PC 17599  71.2833   C85        C  \n",
       "2      0  STON/O2. 3101282   7.9250  None        S  \n",
       "3      0            113803  53.1000  C123        S  \n",
       "4      0            373450   8.0500  None        S  "
      ]
     },
     "execution_count": 20,
     "metadata": {},
     "output_type": "execute_result"
    }
   ],
   "source": [
    "\"\"\"Let's first load the Titanic dataset from a platform named Hugging Face\"\"\"\n",
    "\n",
    "import torch\n",
    "import pandas as pd\n",
    "from datasets import load_dataset\n",
    "\n",
    "titanic_data = load_dataset(\"Tomate/Kaggle-Titanic\")\n",
    "titanic_df = titanic_data[\"train\"].to_pandas()\n",
    "\n",
    "print(titanic_df.iloc[0].keys())\n",
    "titanic_df.head()"
   ]
  },
  {
   "cell_type": "code",
   "execution_count": null,
   "metadata": {},
   "outputs": [],
   "source": []
  },
  {
   "cell_type": "markdown",
   "metadata": {
    "id": "fTGXR3Z_9B3f"
   },
   "source": [
    "**Questions:**\n",
    "\n",
    ">- Q1: What features could be important for the classification task?\n",
    ">- Q2: How can we transform the data format to make it suitable for training?"
   ]
  },
  {
   "cell_type": "code",
   "execution_count": 29,
   "metadata": {
    "id": "j93AojVf53Cp"
   },
   "outputs": [
    {
     "name": "stdout",
     "output_type": "stream",
     "text": [
      "Original sample:\n",
      "Sex       male\n",
      "Pclass       3\n",
      "Age       22.0\n",
      "Fare      7.25\n",
      "SibSp        1\n",
      "Parch        0\n",
      "Name: 0, dtype: object\n",
      "\n",
      "Transformed sample:\n",
      "Pclass            3\n",
      "Age            22.0\n",
      "Fare           7.25\n",
      "SibSp             1\n",
      "Parch             0\n",
      "Sex_female    False\n",
      "Sex_male       True\n",
      "Name: 0, dtype: object\n"
     ]
    }
   ],
   "source": [
    "\"\"\"Data preprocessing\"\"\"\n",
    "\n",
    "## Question: what features can we choose?\n",
    "selected_features = ['Sex', 'Pclass', 'Age','Fare','SibSp','Parch']\n",
    "\n",
    "# Convert categorical to numeric using pandas get_dummies\n",
    "df_encoded = pd.get_dummies(titanic_df[selected_features], columns=['Sex'])\n",
    "features = df_encoded.fillna(0)  # Fill missing values\n",
    "targets = titanic_df['Survived']\n",
    "\n",
    "# Show an example of transformed data\n",
    "print(\"Original sample:\")\n",
    "print(titanic_df.iloc[0][selected_features])\n",
    "print(\"\\nTransformed sample:\")\n",
    "print(features.iloc[0])"
   ]
  },
  {
   "cell_type": "markdown",
   "metadata": {
    "id": "dY-uR_5A-F_n"
   },
   "source": [
    "Before training a classifier, we can reserve some data points as a development validation set to further evaluate the model performance."
   ]
  },
  {
   "cell_type": "code",
   "execution_count": 28,
   "metadata": {
    "id": "p7KPzNBo6pj0"
   },
   "outputs": [
    {
     "name": "stdout",
     "output_type": "stream",
     "text": [
      "Training set: 801 samples\n",
      "Development set: 90 samples\n"
     ]
    }
   ],
   "source": [
    "\"\"\"Split data into training and development sets\"\"\"\n",
    "\n",
    "from sklearn.model_selection import train_test_split\n",
    "\n",
    "# Split with 90% training and 10% development data\n",
    "X_train, X_dev, y_train, y_dev = train_test_split(features, targets, test_size=0.1, random_state=42)\n",
    "\n",
    "print(f\"Training set: {X_train.shape[0]} samples\")\n",
    "print(f\"Development set: {X_dev.shape[0]} samples\")"
   ]
  },
  {
   "cell_type": "markdown",
   "metadata": {
    "id": "FJ3GJVgF_ElB"
   },
   "source": [
    "Another important point: different features may have values of varying magnitudes, so it is common to standardize the features to the same distribution."
   ]
  },
  {
   "cell_type": "code",
   "execution_count": 31,
   "metadata": {
    "id": "nFtZyAEK61U0"
   },
   "outputs": [
    {
     "name": "stdout",
     "output_type": "stream",
     "text": [
      "Before standardization:\n",
      "Pclass              1\n",
      "Age              61.0\n",
      "Fare          32.3208\n",
      "SibSp               0\n",
      "Parch               0\n",
      "Sex_female      False\n",
      "Sex_male         True\n",
      "Name: 625, dtype: object\n",
      "\n",
      "After standardization:\n",
      "Pclass       -1.592229\n",
      "Age           2.107043\n",
      "Fare          0.003970\n",
      "SibSp        -0.470964\n",
      "Parch        -0.466439\n",
      "Sex_female   -0.727067\n",
      "Sex_male      0.727067\n",
      "dtype: float64\n",
      "\n",
      "Mean and standard deviation of training features:\n",
      "Means: [ 2.32 23.73 32.12  0.53  0.38  0.35  0.65]\n",
      "Standard deviations: [ 0.83 17.69 50.24  1.13  0.81  0.48  0.48]\n"
     ]
    }
   ],
   "source": [
    "\"\"\"Feature Standardization\"\"\"\n",
    "import numpy as np\n",
    "from sklearn.preprocessing import StandardScaler\n",
    "\n",
    "scaler = StandardScaler()\n",
    "\n",
    "X_train_scaled = scaler.fit_transform(X_train)\n",
    "X_dev_scaled = scaler.transform(X_dev)\n",
    "\n",
    "sample_idx = 2  # Select a sample to check the details\n",
    "original_sample = X_train.iloc[sample_idx]\n",
    "scaled_sample = pd.Series(X_train_scaled[sample_idx], index=X_train.columns)\n",
    "\n",
    "print(\"Before standardization:\")\n",
    "print(original_sample)\n",
    "print(\"\\nAfter standardization:\")\n",
    "print(scaled_sample)\n",
    "print(\"\\nMean and standard deviation of training features:\")\n",
    "print(f\"Means: {np.round(scaler.mean_, 2)}\")\n",
    "print(f\"Standard deviations: {np.round(scaler.scale_, 2)}\")"
   ]
  },
  {
   "cell_type": "markdown",
   "metadata": {
    "id": "-vZSkBuXBbp8"
   },
   "source": [
    "We can then train a logistic regression model, using the processing feature data (*X_train_scales*) and labels (*y_train*)."
   ]
  },
  {
   "cell_type": "code",
   "execution_count": 34,
   "metadata": {
    "id": "5Z9ZPFxS64tK"
   },
   "outputs": [
    {
     "name": "stdout",
     "output_type": "stream",
     "text": [
      "Logistic Regression Model Parameters:\n",
      "Weights: [[-0.78019644 -0.2527774   0.1381524  -0.33777604 -0.04478032  0.64371883\n",
      "  -0.64371883]]\n",
      "Bias: [-0.63669662]\n"
     ]
    }
   ],
   "source": [
    "\"\"\"Train a logistic regression clapip install transformers\n",
    "ssifier\"\"\"\n",
    "\n",
    "from sklearn.linear_model import LogisticRegression\n",
    "\n",
    "# Create and train the logistic regression model\n",
    "lr_model = LogisticRegression(max_iter=1000, random_state=42)\n",
    "\n",
    "## Question: We will use fit function to train the model, but what args should be input?\n",
    "lr_model.fit(X_train_scaled,y_train)\n",
    "\n",
    "print(\"Logistic Regression Model Parameters:\")\n",
    "print(f\"Weights: {lr_model.coef_}\")\n",
    "print(f\"Bias: {lr_model.intercept_}\")"
   ]
  },
  {
   "cell_type": "code",
   "execution_count": 35,
   "metadata": {
    "id": "MlJ_d3H47AZR"
   },
   "outputs": [
    {
     "name": "stdout",
     "output_type": "stream",
     "text": [
      "Features of the selected dev sample: \n",
      "Pclass            1\n",
      "Age            37.0\n",
      "Fare           53.1\n",
      "SibSp             1\n",
      "Parch             0\n",
      "Sex_female    False\n",
      "Sex_male       True\n",
      "Name: 137, dtype: object\n",
      "\n",
      "True label: 0\n",
      "Predicted label: 0\n",
      "Prediction probabilities [Not Survived, Survived]: [0.64142665 0.35857335]\n"
     ]
    }
   ],
   "source": [
    "\"\"\"Make prediction on the development set\"\"\"\n",
    "\n",
    "y_pred = lr_model.predict(X_dev_scaled)\n",
    "y_pred_proba = lr_model.predict_proba(X_dev_scaled)\n",
    "\n",
    "# Show prediction for one example\n",
    "example_idx = 10\n",
    "print(f\"Features of the selected dev sample: \\n{X_dev.iloc[example_idx]}\")\n",
    "print(f\"\\nTrue label: {y_dev.iloc[example_idx]}\")\n",
    "print(f\"Predicted label: {y_pred[example_idx]}\")\n",
    "print(f\"Prediction probabilities [Not Survived, Survived]: {y_pred_proba[example_idx]}\")"
   ]
  },
  {
   "cell_type": "markdown",
   "metadata": {
    "id": "5rrG_hZDCocE"
   },
   "source": [
    "We can get a comprehensive evaluation results using `scikit-learn` package."
   ]
  },
  {
   "cell_type": "code",
   "execution_count": 37,
   "metadata": {
    "id": "bwa9RCXV7BEG"
   },
   "outputs": [
    {
     "name": "stdout",
     "output_type": "stream",
     "text": [
      "Model performance on development set:\n",
      "              precision    recall  f1-score   support\n",
      "\n",
      "Not Survived       0.84      0.80      0.82        54\n",
      "    Survived       0.72      0.78      0.75        36\n",
      "\n",
      "    accuracy                           0.79        90\n",
      "   macro avg       0.78      0.79      0.78        90\n",
      "weighted avg       0.79      0.79      0.79        90\n",
      "\n"
     ]
    }
   ],
   "source": [
    "from sklearn.metrics import classification_report\n",
    "\n",
    "def evaluate_performance(y_true, y_pred):\n",
    "    \"\"\"Create and print the classification report\"\"\"\n",
    "    performance = classification_report(\n",
    "        y_true, y_pred,\n",
    "        target_names=[\"Not Survived\", \"Survived\"]\n",
    "    )\n",
    "    print(performance)\n",
    "\n",
    "print(\"Model performance on development set:\")\n",
    "\n",
    "## Practice: input the correct variables to print the evaluation results.\n",
    "evaluate_performance(y_dev,y_pred )"
   ]
  },
  {
   "cell_type": "markdown",
   "metadata": {
    "id": "X7aCyk_4W3ri"
   },
   "source": [
    "> 💡 **About Dataset Collection & Loading:**\n",
    "> - HuggingFace is one of the convenient methods to find and load datasets. The `datasets` library provides a simple `load_dataset()` API to directly load datasets from the Hugging Face Hub. For example:\n",
    ">   ```python\n",
    ">   from datasets import load_dataset\n",
    ">   dataset = load_dataset(\"glue\", \"cola\")  # Load the CoLA dataset\n",
    ">   ```\n",
    "> - Datasets can also be loaded from local files with formats like CSV, JSON, and TSV using various methods:\n",
    ">   ```python\n",
    ">   # Read CSV using pandas\n",
    ">   import pandas as pd\n",
    ">   df = pd.read_csv(\"path/to/data.csv\")\n",
    ">   \n",
    ">   # Read JSON file\n",
    ">   import json\n",
    ">   with open(\"path/to/data.json\", \"r\") as f:\n",
    ">       data = json.load(f)\n",
    ">   \n",
    ">   # Read TSV using pandas\n",
    ">   df = pd.read_csv(\"path/to/data.tsv\", sep=\"\\t\")\n",
    ">   ```\n",
    "> - Other possible sources include [Kaggle](https://www.kaggle.com/datasets) and official dataset websites [(e.g., CoLA)](https://nyu-mll.github.io/CoLA/). You can explore any of these resources as long as you give credit to the original creators."
   ]
  },
  {
   "cell_type": "markdown",
   "metadata": {
    "id": "8kvz6N0d4daq"
   },
   "source": [
    "## **This workshop aims to help you:**\n",
    "\n",
    "- Set up your environment (e.g., using conda) and install required packages\n",
    "- Import and use libraries in Python programs\n",
    "- Work with text data pre-processing basics\n",
    "- Refresh the knowledge of build a logistic regression classifier"
   ]
  }
 ],
 "metadata": {
  "colab": {
   "authorship_tag": "ABX9TyPH9nYz81UsDpz3406AtPhk",
   "provenance": []
  },
  "kernelspec": {
   "display_name": "Python 3 (ipykernel)",
   "language": "python",
   "name": "python3"
  },
  "language_info": {
   "codemirror_mode": {
    "name": "ipython",
    "version": 3
   },
   "file_extension": ".py",
   "mimetype": "text/x-python",
   "name": "python",
   "nbconvert_exporter": "python",
   "pygments_lexer": "ipython3",
   "version": "3.12.9"
  }
 },
 "nbformat": 4,
 "nbformat_minor": 4
}
